{
 "cells": [
  {
   "cell_type": "markdown",
   "id": "c8058a28",
   "metadata": {},
   "source": [
    "<h1>Locate Exchange Rate Anomolies</h1>\n",
    "<h2>Example 1 - Simplest Approach</h2>\n",
    "This is an extremely simple example. In this approach, we just look at the closing price at midnight of each day. If the price difference is greater than a threshold that we set then we flag it as an anomoly.\n",
    "\n",
    "Start by pulling in the requisite libraries."
   ]
  },
  {
   "cell_type": "code",
   "execution_count": 1,
   "id": "b6dfdffa",
   "metadata": {},
   "outputs": [],
   "source": [
    "import sys\n",
    "import csv\n",
    "import datetime\n",
    "import mysql.connector"
   ]
  },
  {
   "cell_type": "markdown",
   "id": "13b9fd53",
   "metadata": {},
   "source": [
    "Now connect to the database. This code should be the same for most programs that do analysis of the data."
   ]
  },
  {
   "cell_type": "code",
   "execution_count": 2,
   "id": "abdda785",
   "metadata": {},
   "outputs": [],
   "source": [
    "try:\n",
    "    cnx = mysql.connector.connect(user='ec2-user', database='plato', host='localhost')\n",
    "    cursor = cnx.cursor()\n",
    "except mysql.connector.Error as err:\n",
    "    if err.errno == errorcode.ER_ACCESS_DENIED_ERROR:\n",
    "        print(\"Problem with user name or password\")\n",
    "    elif err.errno == errorcode.ER_BAD_DB_ERROR:\n",
    "        print(\"Database does not exist\")\n",
    "    else:\n",
    "        print(err)\n",
    "    sys.exit()\n"
   ]
  },
  {
   "cell_type": "markdown",
   "id": "9a63dd81",
   "metadata": {},
   "source": [
    "To configure the search, set the Ticker to the desired value, and set the Threshold to trigger it as an anomoly:"
   ]
  },
  {
   "cell_type": "code",
   "execution_count": 5,
   "id": "24bc3392",
   "metadata": {},
   "outputs": [],
   "source": [
    "Ticker = \"AUDUSD\"\n",
    "Threshold = float(0.02)  # that is, 2%"
   ]
  },
  {
   "cell_type": "markdown",
   "id": "55a1244f",
   "metadata": {},
   "source": [
    "For this example, we only need to examine the Exch table in the database. It is defined as follows:\n",
    "\n",
    "<pre>\n",
    "CREATE TABLE Exch (\n",
    "    XID BIGINT NOT NULL AUTO_INCREMENT,                     -- unique id for this record\n",
    "    Dt DATETIME NOT NULL DEFAULT '1970-01-01 00:00:00',     -- point in time when these values are valid\n",
    "    Ticker VARCHAR(10) NOT NULL DEFAULT '',                 -- the two currencies\n",
    "    Open DECIMAL(19,4) NOT NULL DEFAULT 0,                  -- Opening value for this minute\n",
    "    High DECIMAL(19,4) NOT NULL DEFAULT 0,                  -- High value during this minute\n",
    "    Low DECIMAL(19,4) NOT NULL DEFAULT 0,                   -- Low value during this minute\n",
    "    Close DECIMAL(19,4) NOT NULL DEFAULT 0,                 -- Closing value for this minute\n",
    "    LastModTime TIMESTAMP NOT NULL DEFAULT CURRENT_TIMESTAMP ON UPDATE CURRENT_TIMESTAMP,\n",
    "    LastModBy BIGINT NOT NULL DEFAULT 0,                    -- UID\n",
    "    CreateTime TIMESTAMP NOT NULL DEFAULT CURRENT_TIMESTAMP,\n",
    "    CreateBy BIGINT NOT NULL DEFAULT 0,                     -- UID\n",
    "    CONSTRAINT Alpha UNIQUE(Dt,Ticker),                     -- no more than one of these\n",
    "    PRIMARY KEY(XID)\n",
    ");\n",
    "</pre>\n",
    "\n",
    "In the code, we only need the closing rate (Close) and the date (Dt) for every database Row at midnight."
   ]
  },
  {
   "cell_type": "code",
   "execution_count": 8,
   "id": "4bb1e2c7",
   "metadata": {},
   "outputs": [],
   "source": [
    "query = 'SELECT Dt,Close FROM Exch WHERE Ticker=\"{}\" AND MINUTE(Dt)=0 AND HOUR(Dt)=0'.format(Ticker)\n",
    "cursor.execute(query)\n",
    "rows = cursor.fetchall()\n",
    "l = len(rows) - 1"
   ]
  },
  {
   "cell_type": "markdown",
   "id": "ab6958e4",
   "metadata": {},
   "source": [
    "In this case we just put all the matches into an array called <code>rows</code> then loop over it. Each value in the array is another array consisting of <code>Dt</code> at index 0 and <code>Close</code> at index 1."
   ]
  },
  {
   "cell_type": "code",
   "execution_count": 10,
   "id": "c52f5f80",
   "metadata": {},
   "outputs": [
    {
     "name": "stdout",
     "output_type": "stream",
     "text": [
      "1\tMar 15, 2011 v1=1.0100  v2=0.9890 delta=0.0210, Threshold=0.0202\n",
      "2\tAug 04, 2011 v1=1.0771  v2=1.0448 delta=0.0323, Threshold=0.0215\n",
      "3\tAug 08, 2011 v1=1.0412  v2=1.0187 delta=0.0225, Threshold=0.0208\n",
      "4\tAug 10, 2011 v1=1.0389  v2=1.0151 delta=0.0238, Threshold=0.0208\n",
      "5\tSep 21, 2011 v1=1.0264  v2=1.0050 delta=0.0214, Threshold=0.0205\n",
      "6\tSep 22, 2011 v1=1.0050  v2=0.9744 delta=0.0306, Threshold=0.0201\n",
      "7\tOct 10, 2011 v1=0.9758  v2=0.9994 delta=0.0236, Threshold=0.0195\n",
      "8\tOct 27, 2011 v1=1.0395  v2=1.0712 delta=0.0317, Threshold=0.0208\n",
      "9\tNov 01, 2011 v1=1.0537  v2=1.0292 delta=0.0245, Threshold=0.0211\n",
      "10\tNov 09, 2011 v1=1.0379  v2=1.0117 delta=0.0262, Threshold=0.0208\n",
      "11\tNov 30, 2011 v1=1.0036  v2=1.0267 delta=0.0231, Threshold=0.0201\n",
      "12\tJun 29, 2012 v1=1.0039  v2=1.0258 delta=0.0219, Threshold=0.0201\n",
      "13\tJun 19, 2013 v1=0.9483  v2=0.9279 delta=0.0204, Threshold=0.0190\n",
      "14\tNov 05, 2014 v1=0.8752  v2=0.8571 delta=0.0181, Threshold=0.0175\n",
      "15\tApr 28, 2015 v1=0.7847  v2=0.8021 delta=0.0174, Threshold=0.0157\n",
      "16\tJun 02, 2015 v1=0.7609  v2=0.7770 delta=0.0161, Threshold=0.0152\n",
      "17\tJul 03, 2015 v1=0.7632  v2=0.7470 delta=0.0162, Threshold=0.0153\n",
      "18\tAug 24, 2015 v1=0.7305  v2=0.7133 delta=0.0172, Threshold=0.0146\n",
      "19\tOct 13, 2015 v1=0.7360  v2=0.7208 delta=0.0152, Threshold=0.0147\n",
      "20\tMay 03, 2016 v1=0.7663  v2=0.7481 delta=0.0182, Threshold=0.0153\n",
      "21\tJun 24, 2016 v1=0.7625  v2=0.7427 delta=0.0198, Threshold=0.0152\n",
      "22\tJan 02, 2019 v1=0.7043  v2=0.6871 delta=0.0172, Threshold=0.0141\n",
      "23\tMar 12, 2020 v1=0.6479  v2=0.6284 delta=0.0195, Threshold=0.0130\n",
      "24\tMar 17, 2020 v1=0.6121  v2=0.5985 delta=0.0136, Threshold=0.0122\n",
      "25\tMar 18, 2020 v1=0.5985  v2=0.5790 delta=0.0195, Threshold=0.0120\n",
      "26\tMar 19, 2020 v1=0.5790  v2=0.5669 delta=0.0121, Threshold=0.0116\n",
      "27\tMar 23, 2020 v1=0.5714  v2=0.5841 delta=0.0127, Threshold=0.0114\n",
      "28\tMar 24, 2020 v1=0.5841  v2=0.5976 delta=0.0135, Threshold=0.0117\n",
      "29\tMar 26, 2020 v1=0.5896  v2=0.6034 delta=0.0138, Threshold=0.0118\n",
      "30\tJun 01, 2020 v1=0.6662  v2=0.6799 delta=0.0137, Threshold=0.0133\n",
      "31\tJun 11, 2020 v1=0.6994  v2=0.6840 delta=0.0154, Threshold=0.0140\n",
      "total anomolies found: 31\n"
     ]
    }
   ],
   "source": [
    "hits = 0    # number of anomlies that matched our criteria\n",
    "i = 0       # counter\n",
    "while i < l:\n",
    "    v1 = rows[i][1]     # Closing value on dt\n",
    "    v2 = rows[i+1][1]   # Closing value on dt + 1day\n",
    "    dt = rows[i][0]     # datetime of this record (midnight each day)\n",
    "    delta = abs(v2-v1)  # difference between this record and the next record's closing exch rate\n",
    "    thresh = float(v1) * Threshold; # threshold amount\n",
    "    if  delta > thresh:\n",
    "        d = dt.strftime(\"%b %d, %Y\")\n",
    "        hits = hits + 1\n",
    "        print('{}\\t{} v1={}  v2={} delta={}, Threshold={:.4f}'.format(hits,d,v1,v2,delta,thresh))\n",
    "    i = i+1\n",
    "print(f\"total anomolies found: {hits}\")\n"
   ]
  },
  {
   "cell_type": "markdown",
   "id": "a9dc25f1",
   "metadata": {},
   "source": [
    "While this is simple to code, note that if the value of the exchange rate can change dramatically at any point after midnight but returned to a price within the threshold before midnight the next day this approach will not flag it."
   ]
  },
  {
   "cell_type": "code",
   "execution_count": null,
   "id": "a9b166ca",
   "metadata": {},
   "outputs": [],
   "source": []
  }
 ],
 "metadata": {
  "kernelspec": {
   "display_name": "Python 3 (ipykernel)",
   "language": "python",
   "name": "python3"
  },
  "language_info": {
   "codemirror_mode": {
    "name": "ipython",
    "version": 3
   },
   "file_extension": ".py",
   "mimetype": "text/x-python",
   "name": "python",
   "nbconvert_exporter": "python",
   "pygments_lexer": "ipython3",
   "version": "3.8.2"
  }
 },
 "nbformat": 4,
 "nbformat_minor": 5
}
